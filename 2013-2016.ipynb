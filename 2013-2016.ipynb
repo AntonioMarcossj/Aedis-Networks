{
 "cells": [
  {
   "cell_type": "code",
   "execution_count": 1,
   "metadata": {},
   "outputs": [],
   "source": [
    "import pandas as pd\n",
    "import numpy as np\n",
    "import matplotlib.pyplot as plt"
   ]
  },
  {
   "cell_type": "code",
   "execution_count": null,
   "metadata": {},
   "outputs": [],
   "source": [
    "#T.to_csv('2016.csv',index=False)"
   ]
  },
  {
   "cell_type": "code",
   "execution_count": null,
   "metadata": {},
   "outputs": [],
   "source": [
    "#T2016= pd.read_csv('2016.csv', parse_dates = True, na_values = 0, encoding='latin-1',low_memory=False)"
   ]
  },
  {
   "cell_type": "code",
   "execution_count": null,
   "metadata": {},
   "outputs": [],
   "source": [
    "#T2016"
   ]
  },
  {
   "cell_type": "code",
   "execution_count": 5,
   "metadata": {},
   "outputs": [],
   "source": [
    "#tabela_oficial=pd.read_csv('Tabela_Oficial_2015.csv',index_col=0, parse_dates = True, na_values = 0, encoding='latin-1',low_memory=False)"
   ]
  },
  {
   "cell_type": "code",
   "execution_count": 6,
   "metadata": {},
   "outputs": [],
   "source": [
    "#result=pd.DataFrame(tabela_oficial).drop(columns='latitude').drop(columns='longitude').drop(columns='ano').drop(columns='casos')"
   ]
  },
  {
   "cell_type": "code",
   "execution_count": 7,
   "metadata": {},
   "outputs": [],
   "source": [
    "#result.to_csv('Tabela_de_Bairros.csv')"
   ]
  },
  {
   "cell_type": "code",
   "execution_count": 8,
   "metadata": {},
   "outputs": [],
   "source": [
    "tabela_oficial=pd.read_csv('Tabela_de_Bairros.csv',index_col=0, parse_dates = True, na_values = 0, encoding='latin-1',low_memory=False)"
   ]
  },
  {
   "cell_type": "code",
   "execution_count": 9,
   "metadata": {},
   "outputs": [
    {
     "data": {
      "text/html": [
       "<div>\n",
       "<style scoped>\n",
       "    .dataframe tbody tr th:only-of-type {\n",
       "        vertical-align: middle;\n",
       "    }\n",
       "\n",
       "    .dataframe tbody tr th {\n",
       "        vertical-align: top;\n",
       "    }\n",
       "\n",
       "    .dataframe thead th {\n",
       "        text-align: right;\n",
       "    }\n",
       "</style>\n",
       "<table border=\"1\" class=\"dataframe\">\n",
       "  <thead>\n",
       "    <tr style=\"text-align: right;\">\n",
       "      <th></th>\n",
       "      <th>bairro</th>\n",
       "    </tr>\n",
       "    <tr>\n",
       "      <th>codigo</th>\n",
       "      <th></th>\n",
       "    </tr>\n",
       "  </thead>\n",
       "  <tbody>\n",
       "    <tr>\n",
       "      <th>1</th>\n",
       "      <td>RECIFE</td>\n",
       "    </tr>\n",
       "    <tr>\n",
       "      <th>2</th>\n",
       "      <td>SANTO ANTONIO</td>\n",
       "    </tr>\n",
       "    <tr>\n",
       "      <th>3</th>\n",
       "      <td>SAO JOSE</td>\n",
       "    </tr>\n",
       "    <tr>\n",
       "      <th>4</th>\n",
       "      <td>ILHA JOANA BEZERRA</td>\n",
       "    </tr>\n",
       "    <tr>\n",
       "      <th>5</th>\n",
       "      <td>CABANGA</td>\n",
       "    </tr>\n",
       "    <tr>\n",
       "      <th>6</th>\n",
       "      <td>COELHOS</td>\n",
       "    </tr>\n",
       "    <tr>\n",
       "      <th>7</th>\n",
       "      <td>ILHA DO LEITE</td>\n",
       "    </tr>\n",
       "    <tr>\n",
       "      <th>8</th>\n",
       "      <td>BOA VISTA</td>\n",
       "    </tr>\n",
       "    <tr>\n",
       "      <th>9</th>\n",
       "      <td>PAISSANDU</td>\n",
       "    </tr>\n",
       "    <tr>\n",
       "      <th>10</th>\n",
       "      <td>SANTO AMARO</td>\n",
       "    </tr>\n",
       "    <tr>\n",
       "      <th>11</th>\n",
       "      <td>SOLEDADE</td>\n",
       "    </tr>\n",
       "    <tr>\n",
       "      <th>12</th>\n",
       "      <td>ESPINHEIRO</td>\n",
       "    </tr>\n",
       "    <tr>\n",
       "      <th>13</th>\n",
       "      <td>AFLITOS</td>\n",
       "    </tr>\n",
       "    <tr>\n",
       "      <th>14</th>\n",
       "      <td>DERBY</td>\n",
       "    </tr>\n",
       "    <tr>\n",
       "      <th>15</th>\n",
       "      <td>JAQUEIRA</td>\n",
       "    </tr>\n",
       "    <tr>\n",
       "      <th>16</th>\n",
       "      <td>GRACAS</td>\n",
       "    </tr>\n",
       "    <tr>\n",
       "      <th>17</th>\n",
       "      <td>ENCRUZILHADA</td>\n",
       "    </tr>\n",
       "    <tr>\n",
       "      <th>18</th>\n",
       "      <td>ROSARINHO</td>\n",
       "    </tr>\n",
       "    <tr>\n",
       "      <th>19</th>\n",
       "      <td>TAMARINEIRA</td>\n",
       "    </tr>\n",
       "    <tr>\n",
       "      <th>20</th>\n",
       "      <td>BOA VIAGEM</td>\n",
       "    </tr>\n",
       "    <tr>\n",
       "      <th>21</th>\n",
       "      <td>IPSEP</td>\n",
       "    </tr>\n",
       "    <tr>\n",
       "      <th>22</th>\n",
       "      <td>JORDAO</td>\n",
       "    </tr>\n",
       "    <tr>\n",
       "      <th>23</th>\n",
       "      <td>IBURA</td>\n",
       "    </tr>\n",
       "    <tr>\n",
       "      <th>24</th>\n",
       "      <td>PINA</td>\n",
       "    </tr>\n",
       "    <tr>\n",
       "      <th>25</th>\n",
       "      <td>BRASILIA TEIMOSA</td>\n",
       "    </tr>\n",
       "    <tr>\n",
       "      <th>26</th>\n",
       "      <td>IMBIRIBEIRA</td>\n",
       "    </tr>\n",
       "    <tr>\n",
       "      <th>27</th>\n",
       "      <td>TORREAO</td>\n",
       "    </tr>\n",
       "    <tr>\n",
       "      <th>28</th>\n",
       "      <td>CAMPO GRANDE</td>\n",
       "    </tr>\n",
       "    <tr>\n",
       "      <th>29</th>\n",
       "      <td>PEIXINHOS</td>\n",
       "    </tr>\n",
       "    <tr>\n",
       "      <th>30</th>\n",
       "      <td>HIPODROMO</td>\n",
       "    </tr>\n",
       "    <tr>\n",
       "      <th>...</th>\n",
       "      <td>...</td>\n",
       "    </tr>\n",
       "    <tr>\n",
       "      <th>65</th>\n",
       "      <td>TORRE</td>\n",
       "    </tr>\n",
       "    <tr>\n",
       "      <th>66</th>\n",
       "      <td>PRADO</td>\n",
       "    </tr>\n",
       "    <tr>\n",
       "      <th>67</th>\n",
       "      <td>ZUMBI</td>\n",
       "    </tr>\n",
       "    <tr>\n",
       "      <th>68</th>\n",
       "      <td>CORDEIRO</td>\n",
       "    </tr>\n",
       "    <tr>\n",
       "      <th>69</th>\n",
       "      <td>IPUTINGA</td>\n",
       "    </tr>\n",
       "    <tr>\n",
       "      <th>70</th>\n",
       "      <td>TORROES</td>\n",
       "    </tr>\n",
       "    <tr>\n",
       "      <th>71</th>\n",
       "      <td>ENGENHO DO MEIO</td>\n",
       "    </tr>\n",
       "    <tr>\n",
       "      <th>72</th>\n",
       "      <td>CIDADE UNIVERSITARIA</td>\n",
       "    </tr>\n",
       "    <tr>\n",
       "      <th>73</th>\n",
       "      <td>VARZEA</td>\n",
       "    </tr>\n",
       "    <tr>\n",
       "      <th>74</th>\n",
       "      <td>CAXANGA</td>\n",
       "    </tr>\n",
       "    <tr>\n",
       "      <th>75</th>\n",
       "      <td>CURADO</td>\n",
       "    </tr>\n",
       "    <tr>\n",
       "      <th>76</th>\n",
       "      <td>ILHA DO RETIRO</td>\n",
       "    </tr>\n",
       "    <tr>\n",
       "      <th>77</th>\n",
       "      <td>AFOGADOS</td>\n",
       "    </tr>\n",
       "    <tr>\n",
       "      <th>78</th>\n",
       "      <td>MUSTARDINHA</td>\n",
       "    </tr>\n",
       "    <tr>\n",
       "      <th>79</th>\n",
       "      <td>MANGUEIRA</td>\n",
       "    </tr>\n",
       "    <tr>\n",
       "      <th>80</th>\n",
       "      <td>BONGI</td>\n",
       "    </tr>\n",
       "    <tr>\n",
       "      <th>81</th>\n",
       "      <td>SAN MARTIN</td>\n",
       "    </tr>\n",
       "    <tr>\n",
       "      <th>82</th>\n",
       "      <td>JIQUIA</td>\n",
       "    </tr>\n",
       "    <tr>\n",
       "      <th>83</th>\n",
       "      <td>ESTANCIA</td>\n",
       "    </tr>\n",
       "    <tr>\n",
       "      <th>84</th>\n",
       "      <td>CACOTE</td>\n",
       "    </tr>\n",
       "    <tr>\n",
       "      <th>85</th>\n",
       "      <td>AREIAS</td>\n",
       "    </tr>\n",
       "    <tr>\n",
       "      <th>86</th>\n",
       "      <td>JARDIM SAO PAULO</td>\n",
       "    </tr>\n",
       "    <tr>\n",
       "      <th>87</th>\n",
       "      <td>BARRO</td>\n",
       "    </tr>\n",
       "    <tr>\n",
       "      <th>88</th>\n",
       "      <td>COHAB</td>\n",
       "    </tr>\n",
       "    <tr>\n",
       "      <th>89</th>\n",
       "      <td>TEJIPIO</td>\n",
       "    </tr>\n",
       "    <tr>\n",
       "      <th>90</th>\n",
       "      <td>SANCHO</td>\n",
       "    </tr>\n",
       "    <tr>\n",
       "      <th>91</th>\n",
       "      <td>TOTO</td>\n",
       "    </tr>\n",
       "    <tr>\n",
       "      <th>92</th>\n",
       "      <td>COQUEIRAL</td>\n",
       "    </tr>\n",
       "    <tr>\n",
       "      <th>93</th>\n",
       "      <td>PONTO DE PARADA</td>\n",
       "    </tr>\n",
       "    <tr>\n",
       "      <th>94</th>\n",
       "      <td>ALTO SANTA TEREZINHA</td>\n",
       "    </tr>\n",
       "  </tbody>\n",
       "</table>\n",
       "<p>94 rows × 1 columns</p>\n",
       "</div>"
      ],
      "text/plain": [
       "                      bairro\n",
       "codigo                      \n",
       "1                     RECIFE\n",
       "2              SANTO ANTONIO\n",
       "3                   SAO JOSE\n",
       "4         ILHA JOANA BEZERRA\n",
       "5                    CABANGA\n",
       "6                    COELHOS\n",
       "7              ILHA DO LEITE\n",
       "8                  BOA VISTA\n",
       "9                  PAISSANDU\n",
       "10               SANTO AMARO\n",
       "11                  SOLEDADE\n",
       "12                ESPINHEIRO\n",
       "13                   AFLITOS\n",
       "14                     DERBY\n",
       "15                  JAQUEIRA\n",
       "16                    GRACAS\n",
       "17              ENCRUZILHADA\n",
       "18                 ROSARINHO\n",
       "19               TAMARINEIRA\n",
       "20                BOA VIAGEM\n",
       "21                     IPSEP\n",
       "22                    JORDAO\n",
       "23                     IBURA\n",
       "24                      PINA\n",
       "25          BRASILIA TEIMOSA\n",
       "26               IMBIRIBEIRA\n",
       "27                   TORREAO\n",
       "28              CAMPO GRANDE\n",
       "29                 PEIXINHOS\n",
       "30                 HIPODROMO\n",
       "...                      ...\n",
       "65                     TORRE\n",
       "66                     PRADO\n",
       "67                     ZUMBI\n",
       "68                  CORDEIRO\n",
       "69                  IPUTINGA\n",
       "70                   TORROES\n",
       "71           ENGENHO DO MEIO\n",
       "72      CIDADE UNIVERSITARIA\n",
       "73                    VARZEA\n",
       "74                   CAXANGA\n",
       "75                    CURADO\n",
       "76            ILHA DO RETIRO\n",
       "77                  AFOGADOS\n",
       "78               MUSTARDINHA\n",
       "79                 MANGUEIRA\n",
       "80                     BONGI\n",
       "81                SAN MARTIN\n",
       "82                    JIQUIA\n",
       "83                  ESTANCIA\n",
       "84                    CACOTE\n",
       "85                    AREIAS\n",
       "86          JARDIM SAO PAULO\n",
       "87                     BARRO\n",
       "88                     COHAB\n",
       "89                   TEJIPIO\n",
       "90                    SANCHO\n",
       "91                      TOTO\n",
       "92                 COQUEIRAL\n",
       "93           PONTO DE PARADA\n",
       "94      ALTO SANTA TEREZINHA\n",
       "\n",
       "[94 rows x 1 columns]"
      ]
     },
     "execution_count": 9,
     "metadata": {},
     "output_type": "execute_result"
    }
   ],
   "source": [
    "tabela_oficial"
   ]
  },
  {
   "cell_type": "code",
   "execution_count": 10,
   "metadata": {},
   "outputs": [],
   "source": [
    "T=pd.read_csv('2013.csv', parse_dates = True, na_values = 0, encoding='latin-1',low_memory=False)"
   ]
  },
  {
   "cell_type": "code",
   "execution_count": 142,
   "metadata": {},
   "outputs": [],
   "source": [
    "def Casos(arq,semana):\n",
    "    tabela_oficial=pd.read_csv('Tabela_de_Bairros.csv',index_col=0, parse_dates = True, na_values = 0, encoding='latin-1',low_memory=False)\n",
    "    T=pd.read_csv(arq, parse_dates = True, na_values = 0, encoding='latin-1',low_memory=False)\n",
    "    L=T[T['semana']==semana]\n",
    "    bairro=list(L['bairro'])\n",
    "    data=dict([(i, bairro.count(i)) for i in tabela_oficial['bairro']])\n",
    "    #Funciona da mesma forma que:\n",
    "   # data={}\n",
    "    #for i in tabela_oficial['bairro']:\n",
    "     #   data[i]=[bairro.count(i)]\n",
    "    return pd.Series(data)    "
   ]
  },
  {
   "cell_type": "code",
   "execution_count": 146,
   "metadata": {},
   "outputs": [
    {
     "data": {
      "text/plain": [
       "1"
      ]
     },
     "execution_count": 146,
     "metadata": {},
     "output_type": "execute_result"
    }
   ],
   "source": [
    "Casos('2015.csv',1)"
   ]
  },
  {
   "cell_type": "code",
   "execution_count": null,
   "metadata": {},
   "outputs": [],
   "source": []
  },
  {
   "cell_type": "code",
   "execution_count": 135,
   "metadata": {},
   "outputs": [
    {
     "ename": "IndentationError",
     "evalue": "expected an indented block (<ipython-input-135-64609b376141>, line 5)",
     "output_type": "error",
     "traceback": [
      "\u001b[1;36m  File \u001b[1;32m\"<ipython-input-135-64609b376141>\"\u001b[1;36m, line \u001b[1;32m5\u001b[0m\n\u001b[1;33m    lista_casos=[]\u001b[0m\n\u001b[1;37m              ^\u001b[0m\n\u001b[1;31mIndentationError\u001b[0m\u001b[1;31m:\u001b[0m expected an indented block\n"
     ]
    }
   ],
   "source": [
    "def time_series(arq,bairro,t0,t1):\n",
    "    if t0<1 or t1>53:\n",
    "        print('Erro: t0>=1 and t1<=52!')\n",
    "    else:\n",
    "    lista_casos=[]\n",
    "    for i in range(t0,t1+1):\n",
    "        lista_casos.append(Casos(arq,i)[bairro][0])\n",
    "    return pd.Series(lista_casos) "
   ]
  },
  {
   "cell_type": "code",
   "execution_count": 174,
   "metadata": {},
   "outputs": [],
   "source": [
    "def time_series(arq,bairro,t0=1,t1=2):\n",
    "    if t0<1 or t1>53:\n",
    "        print('ERRO: t0>=1 and t1<=52!')\n",
    "    else:\n",
    "        lista_casos=[]\n",
    "        for i in range(t0,t1+1):\n",
    "            lista_casos.append(Casos(arq,i)[bairro])\n",
    "    return pd.Series(lista_casos)"
   ]
  },
  {
   "cell_type": "code",
   "execution_count": 175,
   "metadata": {},
   "outputs": [
    {
     "data": {
      "text/plain": [
       "0    0\n",
       "1    4\n",
       "dtype: int64"
      ]
     },
     "execution_count": 175,
     "metadata": {},
     "output_type": "execute_result"
    }
   ],
   "source": [
    "time_series('2015.csv','IPUTINGA',1,2)"
   ]
  },
  {
   "cell_type": "code",
   "execution_count": 55,
   "metadata": {},
   "outputs": [
    {
     "data": {
      "text/plain": [
       "52"
      ]
     },
     "execution_count": 55,
     "metadata": {},
     "output_type": "execute_result"
    }
   ],
   "source": [
    "len(time_series('2014.csv','IPUTINGA'))"
   ]
  },
  {
   "cell_type": "code",
   "execution_count": 56,
   "metadata": {},
   "outputs": [],
   "source": [
    "def plot_time_series(arq,bairro,cor='crimson'):\n",
    "    plt.plot(temporal_series(arq,bairro),marker='o',color=cor)\n",
    "    plt.xlabel('Semana')\n",
    "    plt.ylabel('Casos registrados no bairro ' + bairro+' - '+arq[0:-4])"
   ]
  },
  {
   "cell_type": "code",
   "execution_count": 57,
   "metadata": {},
   "outputs": [
    {
     "data": {
      "image/png": "[encoded data removed]",
      "text/plain": [
       "<Figure size 432x288 with 1 Axes>"
      ]
     },
     "metadata": {},
     "output_type": "display_data"
    }
   ],
   "source": [
    "plot_time_series('2015.csv','COHAB')"
   ]
  },
  {
   "cell_type": "code",
   "execution_count": 128,
   "metadata": {},
   "outputs": [
    {
     "data": {
      "text/plain": [
       "RECIFE                  0\n",
       "SANTO ANTONIO           0\n",
       "SAO JOSE                0\n",
       "ILHA JOANA BEZERRA      0\n",
       "CABANGA                 0\n",
       "COELHOS                 1\n",
       "ILHA DO LEITE           0\n",
       "BOA VISTA               0\n",
       "PAISSANDU               0\n",
       "SANTO AMARO             2\n",
       "SOLEDADE                0\n",
       "ESPINHEIRO              0\n",
       "AFLITOS                 0\n",
       "DERBY                   0\n",
       "JAQUEIRA                0\n",
       "GRACAS                  1\n",
       "ENCRUZILHADA            0\n",
       "ROSARINHO               0\n",
       "TAMARINEIRA             0\n",
       "BOA VIAGEM              0\n",
       "IPSEP                   0\n",
       "JORDAO                  0\n",
       "IBURA                   1\n",
       "PINA                    0\n",
       "BRASILIA TEIMOSA        0\n",
       "IMBIRIBEIRA             2\n",
       "TORREAO                 0\n",
       "CAMPO GRANDE            0\n",
       "PEIXINHOS               0\n",
       "HIPODROMO               0\n",
       "                       ..\n",
       "TORRE                   0\n",
       "PRADO                   0\n",
       "ZUMBI                   0\n",
       "CORDEIRO                0\n",
       "IPUTINGA                0\n",
       "TORROES                 0\n",
       "ENGENHO DO MEIO         0\n",
       "CIDADE UNIVERSITARIA    0\n",
       "VARZEA                  1\n",
       "CAXANGA                 1\n",
       "CURADO                  0\n",
       "ILHA DO RETIRO          0\n",
       "AFOGADOS                0\n",
       "MUSTARDINHA             0\n",
       "MANGUEIRA               0\n",
       "BONGI                   0\n",
       "SAN MARTIN              0\n",
       "JIQUIA                  0\n",
       "ESTANCIA                1\n",
       "CACOTE                  0\n",
       "AREIAS                  0\n",
       "JARDIM SAO PAULO        0\n",
       "BARRO                   0\n",
       "COHAB                   2\n",
       "TEJIPIO                 1\n",
       "SANCHO                  0\n",
       "TOTO                    0\n",
       "COQUEIRAL               1\n",
       "PONTO DE PARADA         0\n",
       "ALTO SANTA TEREZINHA    0\n",
       "Length: 94, dtype: int64"
      ]
     },
     "execution_count": 128,
     "metadata": {},
     "output_type": "execute_result"
    }
   ],
   "source": [
    "Casos('2015.csv',1)"
   ]
  },
  {
   "cell_type": "code",
   "execution_count": null,
   "metadata": {},
   "outputs": [],
   "source": []
  }
 ],
 "metadata": {
  "kernelspec": {
   "display_name": "Python 3",
   "language": "python",
   "name": "python3"
  },
  "language_info": {
   "codemirror_mode": {
    "name": "ipython",
    "version": 3
   },
   "file_extension": ".py",
   "mimetype": "text/x-python",
   "name": "python",
   "nbconvert_exporter": "python",
   "pygments_lexer": "ipython3",
   "version": "3.6.5"
  }
 },
 "nbformat": 4,
 "nbformat_minor": 2
}
