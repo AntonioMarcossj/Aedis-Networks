{
 "cells": [
  {
   "cell_type": "code",
   "execution_count": 13,
   "metadata": {},
   "outputs": [],
   "source": [
    "import pandas as pd\n",
    "import plotly.plotly as py\n",
    "import plotly.graph_objs as go\n",
    "import plotly\n",
    "import geojson\n",
    "import math\n",
    "import random as rd\n",
    "import numpy as np\n",
    "\n",
    "mapbox_access_token = 'pk.eyJ1Ijoic2lsdmVyc2VlZCIsImEiOiJjam5pNmc3NzAwN3VkM3BsazM3cHRzcmRjIn0.3H4Qchxudkfs8D1PWxLUvA'\n",
    "plotly.tools.set_credentials_file(username='GoldSeed', api_key='1cuptk54PTYZG8SnX1W2')\n",
    "\n",
    "geojson = 'https://raw.githubusercontent.com/AntonioMarcossj/Aedis-Networks/Tabalas-oficiais/Fronteira%20dos%20Bairros.json'\n",
    "\n",
    "df = pd.read_csv('https://raw.githubusercontent.com/AntonioMarcossj/Aedis-Networks/Tabalas-oficiais/Tabela_Oficial_2016.csv', parse_dates = True, sep = ',', na_values = 0,encoding='latin-1',low_memory=False)\n",
    "df= df.fillna(0)\n",
    "df['text'] = df['bairro'] \n",
    "\n"
   ]
  },
  {
   "cell_type": "code",
   "execution_count": null,
   "metadata": {},
   "outputs": [],
   "source": []
  },
  {
   "cell_type": "code",
   "execution_count": 44,
   "metadata": {},
   "outputs": [],
   "source": [
    "a = np.zeros(shape=(94,94))\n",
    "\n",
    "for i in range(0,94):\n",
    "    for j in range(0,94):\n",
    "        if i==j:\n",
    "            a[i][j]=0\n",
    "        else:\n",
    "            a[i][j]=rd.uniform(0,1)"
   ]
  },
  {
   "cell_type": "code",
   "execution_count": 47,
   "metadata": {
    "scrolled": false
   },
   "outputs": [
    {
     "data": {
      "text/html": [
       "<iframe id=\"igraph\" scrolling=\"no\" style=\"border:none;\" seamless=\"seamless\" src=\"https://plot.ly/~GoldSeed/22.embed\" height=\"525px\" width=\"100%\"></iframe>"
      ],
      "text/plain": [
       "<plotly.tools.PlotlyDisplay object>"
      ]
     },
     "execution_count": 47,
     "metadata": {},
     "output_type": "execute_result"
    }
   ],
   "source": [
    "data = [dict(\n",
    "        type = 'scattermapbox',\n",
    "        lat=df['latitude'],\n",
    "        lon=df['longitude'],\n",
    "        text = df['text'],\n",
    "        marker = dict(\n",
    "            size=5,\n",
    "        )\n",
    "       )\n",
    "]\n",
    "\n",
    "data2=[]\n",
    "for i in range(0,len(df['bairro'])):\n",
    "    for j in range(0,len(df['bairro'])):\n",
    "        if a[i][j]>=0.97 and i>j:\n",
    "            data2.append(dict(\n",
    "                type = 'scattermapbox',\n",
    "                lat=[df['latitude'][i],df['latitude'][j]],\n",
    "            lon=[df['longitude'][i],df['longitude'][j]],\n",
    "             mode = 'lines',\n",
    "            line = dict(\n",
    "                width = 2,\n",
    "                color = 'red',\n",
    "            ),\n",
    "            opacity = 0.8\n",
    "    ))\n",
    "\n",
    "\n",
    "layout = go.Layout(\n",
    "        showlegend = False,\n",
    "        mapbox=dict(\n",
    "                 layers=[\n",
    "            dict(\n",
    "                sourcetype = 'geojson',\n",
    "                source = geojson,\n",
    "                type = 'line',\n",
    "                opacity = 0.3,\n",
    "                color = 'gray'\n",
    "            )\n",
    "        ],\n",
    "        accesstoken=mapbox_access_token,\n",
    "        center=dict(\n",
    "             lat=-8.046,\n",
    "            lon=-34.92\n",
    "        ),\n",
    "         zoom = 11\n",
    "    )\n",
    ")\n",
    "        \n",
    "\n",
    "fig = dict( data = data + data2, layout = layout)\n",
    "py.iplot( fig, filename = 'linhas de treino')"
   ]
  },
  {
   "cell_type": "code",
   "execution_count": null,
   "metadata": {},
   "outputs": [],
   "source": []
  }
 ],
 "metadata": {
  "kernelspec": {
   "display_name": "Python 3",
   "language": "python",
   "name": "python3"
  },
  "language_info": {
   "codemirror_mode": {
    "name": "ipython",
    "version": 3
   },
   "file_extension": ".py",
   "mimetype": "text/x-python",
   "name": "python",
   "nbconvert_exporter": "python",
   "pygments_lexer": "ipython3",
   "version": "3.7.0"
  }
 },
 "nbformat": 4,
 "nbformat_minor": 2
}
