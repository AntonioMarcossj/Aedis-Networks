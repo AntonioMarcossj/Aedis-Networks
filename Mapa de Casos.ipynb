{
 "cells": [
  {
   "cell_type": "code",
   "execution_count": 1,
   "metadata": {},
   "outputs": [
    {
     "data": {
      "text/html": [
       "<iframe id=\"igraph\" scrolling=\"no\" style=\"border:none;\" seamless=\"seamless\" src=\"https://plot.ly/~GoldSeed/20.embed\" height=\"525px\" width=\"100%\"></iframe>"
      ],
      "text/plain": [
       "<plotly.tools.PlotlyDisplay object>"
      ]
     },
     "execution_count": 1,
     "metadata": {},
     "output_type": "execute_result"
    }
   ],
   "source": [
    "import pandas as pd\n",
    "import plotly.plotly as py\n",
    "import plotly.graph_objs as go\n",
    "import plotly\n",
    "import geojson\n",
    "import math\n",
    "\n",
    "mapbox_access_token = 'pk.eyJ1Ijoic2lsdmVyc2VlZCIsImEiOiJjam5pNmc3NzAwN3VkM3BsazM3cHRzcmRjIn0.3H4Qchxudkfs8D1PWxLUvA'\n",
    "plotly.tools.set_credentials_file(username='GoldSeed', api_key='1cuptk54PTYZG8SnX1W2')\n",
    "\n",
    "geojson = 'https://raw.githubusercontent.com/AntonioMarcossj/Aedis-Networks/Tabalas-oficiais/Fronteira%20dos%20Bairros.json'\n",
    "\n",
    "df = pd.read_csv('https://raw.githubusercontent.com/AntonioMarcossj/Aedis-Networks/Tabalas-oficiais/Tabela_Oficial_2015.csv', parse_dates = True, sep = ',', na_values = 0,encoding='latin-1',low_memory=False)\n",
    "df= df.fillna(0)\n",
    "df['text'] = df['bairro'] + '<br>Quantidade de casos: ' + df['casos'].astype(str)\n",
    "\n",
    "filename = 'Mapa dos Casos de ' + str(df['ano'][0])\n",
    "\n",
    "data = [dict(\n",
    "        type = 'scattermapbox',\n",
    "        lat=df['latitude'],\n",
    "        lon=df['longitude'],\n",
    "        text = df['text'],\n",
    "        marker = dict(\n",
    "            showscale=True,\n",
    "            colorbar = dict(\n",
    "                title = 'Número de Casos'\n",
    "            ),\n",
    "            size=df['casos']**(1/2),\n",
    "            color=df['casos'],\n",
    "            colorscale=[\n",
    "                [0.0, 'rgb(49,54,149)'], \n",
    "                [0.1111111111111111, 'rgb(69,117,180)'], \n",
    "                [0.2222222222222222, 'rgb(116,173,209)'], \n",
    "                [0.3333333333333333, 'rgb(171,217,233)'],\n",
    "                [0.4444444444444444, 'rgb(224,243,248)'], \n",
    "                [0.5555555555555556, 'rgb(254,224,144)'], \n",
    "                [0.6666666666666666, 'rgb(253,174,97)'], \n",
    "                [0.7777777777777778, 'rgb(244,109,67)'], \n",
    "                [0.8888888888888888, 'rgb(215,48,39)'], \n",
    "                [1.0, 'rgb(165,0,38)']\n",
    "            ],\n",
    "            opacity=0.9,\n",
    "            cauto= False\n",
    "        )\n",
    "       )\n",
    "    ]\n",
    "\n",
    "layout = go.Layout(\n",
    "        title = 'Mapa dos Casos de ' + str(df['ano'][0]),\n",
    "        mapbox=dict(\n",
    "            layers=[\n",
    "            dict(\n",
    "                sourcetype = 'geojson',\n",
    "                source = geojson,\n",
    "                type = 'line',\n",
    "                opacity = 0.5,\n",
    "                color = 'gray'\n",
    "            )\n",
    "        ],\n",
    "        accesstoken=mapbox_access_token,\n",
    "        center=dict(\n",
    "             lat=-8.046,\n",
    "            lon=-34.92\n",
    "        ),\n",
    "         zoom = 11\n",
    "    )\n",
    ")\n",
    "        \n",
    "\n",
    "fig = dict( data = data, layout = layout)\n",
    "py.iplot( fig, filename = filename)"
   ]
  },
  {
   "cell_type": "code",
   "execution_count": null,
   "metadata": {},
   "outputs": [],
   "source": []
  }
 ],
 "metadata": {
  "kernelspec": {
   "display_name": "Python 3",
   "language": "python",
   "name": "python3"
  },
  "language_info": {
   "codemirror_mode": {
    "name": "ipython",
    "version": 3
   },
   "file_extension": ".py",
   "mimetype": "text/x-python",
   "name": "python",
   "nbconvert_exporter": "python",
   "pygments_lexer": "ipython3",
   "version": "3.7.0"
  }
 },
 "nbformat": 4,
 "nbformat_minor": 2
}
