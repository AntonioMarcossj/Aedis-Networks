{
 "cells": [
  {
   "cell_type": "code",
   "execution_count": 2,
   "metadata": {},
   "outputs": [],
   "source": [
    "import pandas as pd\n",
    "import numpy as np\n",
    "import matplotlib.pyplot as plt\n",
    "#Este programa tem a finalidade de criar uma tabala que contenha\n",
    "#todas as informações necessárias em cada ano: bairro, código do bairro, \n",
    "#número de casos, número de casos por população, latitude e longitude."
   ]
  },
  {
   "cell_type": "code",
   "execution_count": 25,
   "metadata": {},
   "outputs": [],
   "source": [
    "#arquivo que contém latitude e longitude\n",
    "loc = pd.read_csv('https://raw.githubusercontent.com/AntonioMarcossj/Aedis-Networks/Tabalas-oficiais/lat_long.csv', parse_dates = True, na_values = 0, sep = '\\t', encoding='latin-1',low_memory=False)\n",
    "#arquivos que contêm número de casos por população\n",
    "cp13 = pd.read_csv('https://raw.githubusercontent.com/AntonioMarcossj/Aedis-Networks/Tabalas-oficiais/casos_por_pop2013.csv', parse_dates = True, sep = ';', na_values = 0, encoding='latin-1',low_memory=False)\n",
    "cp14 = pd.read_csv('https://raw.githubusercontent.com/AntonioMarcossj/Aedis-Networks/Tabalas-oficiais/casos_por_pop2014.csv', parse_dates = True, sep = ';', na_values = 0, encoding='latin-1',low_memory=False)\n",
    "cp15 = pd.read_csv('https://raw.githubusercontent.com/AntonioMarcossj/Aedis-Networks/Tabalas-oficiais/casos_por_pop2015.csv', parse_dates = True, sep = ';', na_values = 0, encoding='latin-1',low_memory=False)\n",
    "cp16 = pd.read_csv('https://raw.githubusercontent.com/AntonioMarcossj/Aedis-Networks/Tabalas-oficiais/casos_por_pop2016.csv', parse_dates = True, sep = ';', na_values = 0, encoding='latin-1',low_memory=False)\n",
    "#arquivos que contêm bairro, código do bairro e número de casos\n",
    "C13 = pd.read_csv('https://raw.githubusercontent.com/AntonioMarcossj/Aedis-Networks/Tabalas-oficiais/2013.csv', parse_dates = True, na_values = 0, encoding='latin-1',low_memory=False)\n",
    "C14 = pd.read_csv('https://raw.githubusercontent.com/AntonioMarcossj/Aedis-Networks/Tabalas-oficiais/2014.csv', parse_dates = True, na_values = 0, encoding='latin-1',low_memory=False)\n",
    "C15 = pd.read_csv('https://raw.githubusercontent.com/AntonioMarcossj/Aedis-Networks/Tabalas-oficiais/2015.csv', parse_dates = True, na_values = 0, encoding='latin-1',low_memory=False)\n",
    "C16 = pd.read_csv('https://raw.githubusercontent.com/AntonioMarcossj/Aedis-Networks/Tabalas-oficiais/2016.csv', parse_dates = True, na_values = 0, encoding='latin-1',low_memory=False)\n"
   ]
  },
  {
   "cell_type": "code",
   "execution_count": 4,
   "metadata": {},
   "outputs": [],
   "source": [
    "#Tomando as colunas importantes de cada arquivo, retirando os NAN e\n",
    "#preenchendo-as com o tipo adequado \n",
    "casos13 = cp13['casos'].fillna(0).astype('int')\n",
    "casos14 = cp14['casos'].fillna(0).astype('int')\n",
    "casos15 = cp15['casos'].fillna(0).astype('int')\n",
    "casos16 = cp16['casos'].fillna(0).astype('int')\n",
    "ca13 = cp13['casos/pop'].fillna(0)\n",
    "ca14 = cp14['casos/ pop'].fillna(0)\n",
    "ca15 = cp15['casos/pop'].fillna(0)\n",
    "ca16 = cp16['casos/pop'].fillna(0)"
   ]
  },
  {
   "cell_type": "code",
   "execution_count": 18,
   "metadata": {},
   "outputs": [],
   "source": [
    "#Criando as tabalas desejadas\n",
    "df13 = pd.DataFrame({})\n",
    "df14 = pd.DataFrame({})\n",
    "df15 = pd.DataFrame({})\n",
    "df16 = pd.DataFrame({})"
   ]
  },
  {
   "cell_type": "code",
   "execution_count": 20,
   "metadata": {},
   "outputs": [],
   "source": [
    "#Função que preenche as tabalas\n",
    "def Tabela (arq1, arq2, arq3, arq4):\n",
    "    arq1['Codigo'] = arq2['co_bairro_residencia']\n",
    "    arq1['Bairro'] = arq2['no_bairro_residencia']\n",
    "    arq1['Casos'] =  arq3\n",
    "    arq1['Casos/Pop'] = arq4\n",
    "    arq1['Latitude'] = loc['lat']\n",
    "    arq1['Longitude'] = loc['long']"
   ]
  },
  {
   "cell_type": "code",
   "execution_count": 32,
   "metadata": {},
   "outputs": [],
   "source": [
    "Tabela(df13, cp13, casos13, ca13)\n",
    "Tabela(df14, cp14, casos14, ca14)\n",
    "Tabela(df15, cp15, casos15, ca15)\n",
    "Tabela(df16, cp16, casos16, ca16)\n",
    "df13.head()\n",
    "df13.to_csv('Tabala_Oficial_2013.csv', index = False)\n",
    "df14.to_csv('Tabala_Oficial_2014.csv', index = False)\n",
    "df15.to_csv('Tabala_Oficial_2015.csv', index = False)\n",
    "df16.to_csv('Tabala_Oficial_2016.csv', index = False)"
   ]
  }
 ],
 "metadata": {
  "kernelspec": {
   "display_name": "Python 3",
   "language": "python",
   "name": "python3"
  },
  "language_info": {
   "codemirror_mode": {
    "name": "ipython",
    "version": 3
   },
   "file_extension": ".py",
   "mimetype": "text/x-python",
   "name": "python",
   "nbconvert_exporter": "python",
   "pygments_lexer": "ipython3",
   "version": "3.7.0"
  }
 },
 "nbformat": 4,
 "nbformat_minor": 2
}
